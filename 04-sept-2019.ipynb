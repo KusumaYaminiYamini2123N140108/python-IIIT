{
 "cells": [
  {
   "cell_type": "markdown",
   "metadata": {},
   "source": [
    "### Markdown Basics\n",
    "# Heading 1\n",
    "## Hading 2\n",
    "* Normal Text\n",
    "* **Bold**\n",
    "* *Italic*\n",
    "* ***IB***\n",
    "* Text\n",
    "    * sublist 1\n",
    "    * sublist 2\n",
    "> 1. Ordered list 1\n",
    "> 2. Orderes list 2\n",
    "- [ ] Option 1\n",
    "- [ ] Option 1\n",
    "- [x] Option 3\n",
    "\n",
    "\\* escape\n",
    "[Link](https://gmail.com)\n",
    "\n",
    "I have 10 items [Google] [1] than from [yahoo] [2].\n",
    "\n",
    "[1]: http://google.com/ \"Google\"\n",
    "[2]: http://yahoo.com/ \"yahoo\"\n",
    "\n",
    "`printf(\"Hello Markdown\")`\n",
    "\n",
    " <https://google.com>\n",
    " \n",
    " [jupyter Logo](logo.png)\n",
    "\n",
    "<img src=\"logo.png\" height=\"50px\" width=\"50px\" style=\"float:left\">"
   ]
  },
  {
   "cell_type": "code",
   "execution_count": null,
   "metadata": {},
   "outputs": [],
   "source": []
  }
 ],
 "metadata": {
  "kernelspec": {
   "display_name": "Python 3",
   "language": "python",
   "name": "python3"
  },
  "language_info": {
   "codemirror_mode": {
    "name": "ipython",
    "version": 3
   },
   "file_extension": ".py",
   "mimetype": "text/x-python",
   "name": "python",
   "nbconvert_exporter": "python",
   "pygments_lexer": "ipython3",
   "version": "3.7.3"
  }
 },
 "nbformat": 4,
 "nbformat_minor": 2
}
